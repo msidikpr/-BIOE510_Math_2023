{
 "cells": [
  {
   "cell_type": "code",
   "execution_count": 1,
   "metadata": {},
   "outputs": [],
   "source": [
    "import pandas as pd \n",
    "import numpy as np"
   ]
  },
  {
   "cell_type": "code",
   "execution_count": null,
   "metadata": {},
   "outputs": [],
   "source": [
    "#M + random martix size (N,N)\n",
    "## row  sum to one\n",
    "# x = random vector "
   ]
  },
  {
   "cell_type": "code",
   "execution_count": 19,
   "metadata": {},
   "outputs": [],
   "source": [
    "# Define Size\n",
    "size = 10\n",
    "sigma = 2\n",
    "# Make connection array\n",
    "randMat = np.random.rand(size, size)\n",
    "\n",
    " # Connection matrix\n",
    "columnSums = randMat.sum(axis=0)\n",
    "connectionMatrix = sigma*randMat/columnSums\n",
    "startingState = np.random.randint(2, size=size)\n",
    "\n",
    "\n",
    "\n",
    "\n"
   ]
  },
  {
   "cell_type": "code",
   "execution_count": null,
   "metadata": {},
   "outputs": [],
   "source": []
  },
  {
   "cell_type": "code",
   "execution_count": 17,
   "metadata": {},
   "outputs": [],
   "source": [
    "product = np.dot(connectionMatrix,startingState)\n",
    "testMatrix = np.random.rand(size)\n",
    "newState = ((product > testMatrix)*startingState) > 0\n",
    "newState = newState.astype(int)\n",
    "\n"
   ]
  },
  {
   "cell_type": "code",
   "execution_count": 18,
   "metadata": {},
   "outputs": [
    {
     "data": {
      "text/plain": [
       "array([0, 0, 1, 0, 0, 0, 0, 0, 0, 1])"
      ]
     },
     "execution_count": 18,
     "metadata": {},
     "output_type": "execute_result"
    }
   ],
   "source": [
    "newState"
   ]
  },
  {
   "cell_type": "code",
   "execution_count": 20,
   "metadata": {},
   "outputs": [],
   "source": [
    "def olditerateVector(state,connectionMatrix,size):\n",
    "\n",
    "    # Multiplying by the connection array\n",
    "    product = np.dot(connectionMatrix,state)\n",
    "\n",
    "    # Rolling the dice\n",
    "    #testMatrix = size*np.random.rand(size)\n",
    "    testMatrix = np.random.rand(size) #SIZE ISSUE\n",
    "    #print(testMatrix)\n",
    "    newState = ((product > testMatrix)*state) > 0\n",
    "    newState = newState.astype(int)\n",
    "\n",
    "    return newState"
   ]
  },
  {
   "cell_type": "code",
   "execution_count": 111,
   "metadata": {},
   "outputs": [],
   "source": [
    "def iterateVector(state,connectionMatrix,size):\n",
    "\n",
    "    # Multiplying by the connection array\n",
    "    #product = connectionMatrix*state\n",
    "\n",
    "    # Rolling the dice\n",
    "    #testMatrix = size*np.random.rand(size)\n",
    "    testMatrix = np.random.rand(size,size) #SIZE ISSUE\n",
    "    #print(testMatrix)\n",
    "    comparisonMatrix = 1 * (connectionMatrix > testMatrix)\n",
    "    product = np.matmul(comparisonMatrix,state)\n",
    "    newState = 1 * (product > 0)\n",
    "    #newState = newState.astype(int)\n",
    "\n",
    "    return newState\n",
    "def create_connectionMatrix(size, sigma):\n",
    "    randMat = np.random.rand(size, size)\n",
    "    columnSums = randMat.sum(axis=0)\n",
    "    connectionMatrix = sigma*randMat/columnSums\n",
    "    return connectionMatrix\n",
    "    \n",
    "def create_startingState(size):\n",
    "    startingState = np.zeros(10)\n",
    "    startingState[0] = 1 \n",
    "    return startingState\n",
    "\n",
    "\n",
    "def run_simulation(size, iterations,sigma): \n",
    "    iterations = iterations\n",
    "    size = size\n",
    "    sigma = sigma\n",
    "    startingState = create_startingState(size)\n",
    "    connectionMatrix= create_connectionMatrix(size,sigma)\n",
    "    workingState = startingState\n",
    "    resultMatrix = startingState\n",
    "    for i in range(0,iterations):\n",
    "        # update state\n",
    "        workingState = iterateVector(workingState,connectionMatrix,size)\n",
    "\n",
    "        \n",
    "\n",
    "    # save state\n",
    "        resultMatrix = np.vstack((resultMatrix,workingState))\n",
    "        if np.any(workingState) != True:\n",
    "            break\n",
    "        else:\n",
    "            continue\n",
    "    return len(resultMatrix) -1 \n",
    "        \n",
    "        \n",
    "    \n",
    "\n",
    "    \n"
   ]
  },
  {
   "cell_type": "code",
   "execution_count": 135,
   "metadata": {},
   "outputs": [
    {
     "name": "stderr",
     "output_type": "stream",
     "text": [
      "C:\\Users\\nlab\\AppData\\Local\\Temp\\ipykernel_21924\\1715632784.py:11: RuntimeWarning: divide by zero encountered in log\n",
      "  ax.scatter(np.log(bins[1:]),np.log(counts))\n"
     ]
    },
    {
     "data": {
      "image/png": "[encoded data removed]",
      "text/plain": [
       "<Figure size 640x480 with 1 Axes>"
      ]
     },
     "metadata": {},
     "output_type": "display_data"
    }
   ],
   "source": [
    "\n",
    "sigma_list = [1,.5,1.5]\n",
    "fig,ax = plt.subplots()\n",
    "for x in sigma_list:\n",
    "    empty =[]\n",
    "    for i in range(0,10000):\n",
    "        result = run_simulation(10,100,x)\n",
    "        empty.append(result)\n",
    "    sim = np.array(empty)\n",
    "    counts, bins = np.histogram(sim,300)\n",
    "    \n",
    "    ax.scatter(np.log(bins[1:]),np.log(counts))\n",
    "\n",
    "    #print(sim)\n",
    "\n",
    "    \n"
   ]
  },
  {
   "cell_type": "code",
   "execution_count": 130,
   "metadata": {},
   "outputs": [
    {
     "name": "stderr",
     "output_type": "stream",
     "text": [
      "C:\\Users\\nlab\\AppData\\Local\\Temp\\ipykernel_21924\\100009310.py:1: RuntimeWarning: divide by zero encountered in log\n",
      "  plt.scatter(np.log(bins[1:]),np.log(counts))\n"
     ]
    },
    {
     "data": {
      "text/plain": [
       "<matplotlib.collections.PathCollection at 0x29bbba455b0>"
      ]
     },
     "execution_count": 130,
     "metadata": {},
     "output_type": "execute_result"
    },
    {
     "data": {
      "image/png": "[encoded data removed]",
      "text/plain": [
       "<Figure size 640x480 with 1 Axes>"
      ]
     },
     "metadata": {},
     "output_type": "display_data"
    }
   ],
   "source": [
    "\n",
    "plt.scatter(np.log(bins[1:]),np.log(counts))"
   ]
  },
  {
   "cell_type": "code",
   "execution_count": 56,
   "metadata": {},
   "outputs": [],
   "source": [
    "sim = np.array(empty)"
   ]
  },
  {
   "cell_type": "code",
   "execution_count": 74,
   "metadata": {},
   "outputs": [
    {
     "data": {
      "text/plain": [
       "array([1. , 1.7, 2.4, 3.1, 3.8, 4.5, 5.2, 5.9, 6.6, 7.3, 8. ])"
      ]
     },
     "execution_count": 74,
     "metadata": {},
     "output_type": "execute_result"
    }
   ],
   "source": [
    "bins\n"
   ]
  },
  {
   "cell_type": "code",
   "execution_count": 58,
   "metadata": {},
   "outputs": [
    {
     "data": {
      "text/plain": [
       "(array([ 342.,  796., 1076.,  993.,  875.,  660.,  530.,  385.,  378.,\n",
       "        3965.]),\n",
       " array([ 1. ,  1.9,  2.8,  3.7,  4.6,  5.5,  6.4,  7.3,  8.2,  9.1, 10. ]),\n",
       " <BarContainer object of 10 artists>)"
      ]
     },
     "execution_count": 58,
     "metadata": {},
     "output_type": "execute_result"
    },
    {
     "data": {
      "image/png": "[encoded data removed]",
      "text/plain": [
       "<Figure size 640x480 with 1 Axes>"
      ]
     },
     "metadata": {},
     "output_type": "display_data"
    }
   ],
   "source": [
    "plt.hist(sim)"
   ]
  },
  {
   "cell_type": "code",
   "execution_count": 26,
   "metadata": {},
   "outputs": [
    {
     "data": {
      "image/png": "[encoded data removed]",
      "text/plain": [
       "<Figure size 640x480 with 1 Axes>"
      ]
     },
     "metadata": {},
     "output_type": "display_data"
    }
   ],
   "source": [
    " import matplotlib.pyplot as plt\n",
    "\n",
    " plt.imshow(resultMatrix)\n",
    " plt.show()"
   ]
  },
  {
   "cell_type": "code",
   "execution_count": 12,
   "metadata": {},
   "outputs": [
    {
     "name": "stdout",
     "output_type": "stream",
     "text": [
      "[[0 0 1 0 0 0 0 0 0 1]\n",
      " [1 1 0 1 1 0 1 1 1 0]\n",
      " [0 1 1 1 1 1 1 1 1 1]\n",
      " [1 1 1 1 1 1 1 1 1 1]\n",
      " [1 1 1 1 1 1 1 1 1 1]\n",
      " [1 1 1 1 1 1 1 1 1 1]]\n"
     ]
    }
   ],
   "source": [
    "workingState = startingState\n",
    "\n",
    "resultMatrix = startingState\n",
    "for i in range(0,5):\n",
    "\n",
    "    # update state\n",
    "    workingState = iterateVector(workingState,connectionMatrix,size)\n",
    "\n",
    "    # save state\n",
    "    resultMatrix = np.vstack((resultMatrix,workingState))\n",
    "\n",
    "print(resultMatrix)"
   ]
  },
  {
   "cell_type": "code",
   "execution_count": null,
   "metadata": {},
   "outputs": [],
   "source": [
    "def simulate(connectionMatrix,startingState,iterations):\n",
    "    resultMatrix = \n",
    "    for i in range(0,iterations):\n",
    "\n",
    "        \n",
    "\n"
   ]
  },
  {
   "cell_type": "code",
   "execution_count": 7,
   "metadata": {},
   "outputs": [
    {
     "data": {
      "text/plain": [
       "array([[0.00577848, 0.03115998, 0.25607484, 0.01473495, 0.25084345,\n",
       "        0.12065896, 0.12216408, 0.00542681, 0.12698341, 0.21455189],\n",
       "       [0.26441478, 0.28618743, 0.03027408, 0.03533861, 0.34802272,\n",
       "        0.1234329 , 0.4460959 , 0.32452632, 0.06751438, 0.13907827],\n",
       "       [0.2952895 , 0.10217447, 0.39899925, 0.11059399, 0.22377614,\n",
       "        0.18989977, 0.00473933, 0.33827826, 0.28785182, 0.0285653 ],\n",
       "       [0.29471595, 0.1077645 , 0.15016449, 0.44366964, 0.32413166,\n",
       "        0.28584849, 0.09749495, 0.08838803, 0.31856337, 0.31020476],\n",
       "       [0.20269144, 0.38624525, 0.18906104, 0.49948717, 0.18983674,\n",
       "        0.18428083, 0.3390128 , 0.2196599 , 0.26096539, 0.02819186],\n",
       "       [0.02740597, 0.22182259, 0.01521776, 0.48131903, 0.1105803 ,\n",
       "        0.3112073 , 0.06242083, 0.31847885, 0.16640459, 0.30627684],\n",
       "       [0.37939895, 0.27908877, 0.40640047, 0.00287874, 0.14314199,\n",
       "        0.27556987, 0.03911332, 0.24821104, 0.17133327, 0.25755533],\n",
       "       [0.19808591, 0.32391579, 0.10426588, 0.21326983, 0.26951611,\n",
       "        0.01538736, 0.4087274 , 0.13287963, 0.26339026, 0.29271083],\n",
       "       [0.04394519, 0.05706267, 0.10355158, 0.19084216, 0.11983336,\n",
       "        0.21701342, 0.16367943, 0.25538658, 0.27975199, 0.25927868],\n",
       "       [0.28827384, 0.20457855, 0.3459906 , 0.00786588, 0.02031752,\n",
       "        0.27670109, 0.31655196, 0.06876458, 0.05724151, 0.16358625]])"
      ]
     },
     "execution_count": 7,
     "metadata": {},
     "output_type": "execute_result"
    }
   ],
   "source": [
    "connectionMatrix"
   ]
  },
  {
   "cell_type": "code",
   "execution_count": 8,
   "metadata": {},
   "outputs": [
    {
     "data": {
      "text/plain": [
       "array([0, 0, 1, 0, 0, 0, 0, 0, 0, 1])"
      ]
     },
     "execution_count": 8,
     "metadata": {},
     "output_type": "execute_result"
    }
   ],
   "source": [
    "startingState = np.random.randint(2, size=size)\n",
    "startingState"
   ]
  },
  {
   "cell_type": "code",
   "execution_count": 9,
   "metadata": {},
   "outputs": [],
   "source": [
    "product = np.dot(connectionMatrix,startingState)\n"
   ]
  },
  {
   "cell_type": "code",
   "execution_count": 10,
   "metadata": {},
   "outputs": [
    {
     "data": {
      "text/plain": [
       "array([0.47062673, 0.16935235, 0.42756455, 0.46036925, 0.2172529 ,\n",
       "       0.32149461, 0.66395579, 0.39697671, 0.36283026, 0.50957685])"
      ]
     },
     "execution_count": 10,
     "metadata": {},
     "output_type": "execute_result"
    }
   ],
   "source": [
    "product"
   ]
  },
  {
   "cell_type": "code",
   "execution_count": null,
   "metadata": {},
   "outputs": [],
   "source": []
  }
 ],
 "metadata": {
  "kernelspec": {
   "display_name": "ephys1",
   "language": "python",
   "name": "python3"
  },
  "language_info": {
   "codemirror_mode": {
    "name": "ipython",
    "version": 3
   },
   "file_extension": ".py",
   "mimetype": "text/x-python",
   "name": "python",
   "nbconvert_exporter": "python",
   "pygments_lexer": "ipython3",
   "version": "3.8.1"
  },
  "orig_nbformat": 4,
  "vscode": {
   "interpreter": {
    "hash": "21c85f59f5259120b6429b8a0c76c10f569d715194ea15dbc1af6ba3ca5fb9db"
   }
  }
 },
 "nbformat": 4,
 "nbformat_minor": 2
}
