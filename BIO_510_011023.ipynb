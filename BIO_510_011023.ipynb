{
 "cells": [
  {
   "cell_type": "markdown",
   "metadata": {},
   "source": [
    "# Camazine 2 How Self-Organization Works\n",
    "\n",
    "## Self organizing systems are made of many similar components/events\n",
    "- Challenge: how do these components interact to produce a complex system \n",
    "- The basic modes of interation in self organizing systems are postivea/negative feedback.\n",
    "-  These componest must aslo acquire and process informantion\n",
    "\n",
    "## Feedback: Postitive and Negatvive\n",
    "- Example of feedback in a biological system: regulation of blood sugar levels\n",
    "- Blood sugar and body temprature is regulated by a negative feedbacks system.\n",
    "## Postive Feedback and the Creation of pattern\n",
    "- Example: Populations growth\n",
    "## How Organisims Acquire and Act upon Information\n",
    "- Informationc an flow through two means cues and signals\n",
    "- Signals are stimuli shaped by natural selection: Pheromone trails left by ants\n",
    "- Cues are stimuli that convey info incedentially: The phsyical trail left by a dear\n",
    "## Infomation gathered by ones neighbor\n",
    "- Schooling fish cordinate their movments from cues provided by neighboring fish\n",
    "- Spacing between fish is a negative feedback loop\n",
    "- Schooling is postive feedback \"Be most attracted to the largest group of fish\n",
    "## Information Gatherd from Work in Pogress (stigmergy)\n",
    "- Temites use the product of previous work for the cue to build thier nest, infomation derived from the enviroment\n",
    "## Summarry\n",
    "- Introducing a large number of indivuals acting simultaneously, an ordered system and emerge controlled by postive and negative feedback mechanisms. \n",
    "- local inforamtion between agents are used rather than global information\n",
    "\n",
    "\n",
    "\n",
    "\n"
   ]
  },
  {
   "cell_type": "markdown",
   "metadata": {},
   "source": [
    "# Camazine 3 Characteristics of Self Organizing Systems\n",
    "\n",
    "## Self Organizing Systems Exhibit Emergent properties\n",
    "\n",
    "- Self organizing systems can be formalized as dynamic systems in which non linear behvaiors arise orver time\n",
    "\n",
    "## SOS exhibit Emergent Properties\n",
    "\n",
    "- Emergent propeties are behaviors exhibited by a system not explained by the linerar combination of subunits.\n",
    "- the clustering of larvae is determined by the intial density of the larvae \n",
    "- SOS display bifurcations, a sudden transition from one pattern to another following the change in a parameter of the system.\n",
    "- sos have diffrent trajectories based on diffrent intial condition or paramters"
   ]
  },
  {
   "cell_type": "markdown",
   "metadata": {},
   "source": [
    "## Lecture 1 1102023\n",
    "- conway game of life \n"
   ]
  },
  {
   "cell_type": "code",
   "execution_count": 2,
   "metadata": {},
   "outputs": [
    {
     "ename": "ModuleNotFoundError",
     "evalue": "No module named 'pygame'",
     "output_type": "error",
     "traceback": [
      "\u001b[1;31m---------------------------------------------------------------------------\u001b[0m",
      "\u001b[1;31mModuleNotFoundError\u001b[0m                       Traceback (most recent call last)",
      "Input \u001b[1;32mIn [2]\u001b[0m, in \u001b[0;36m<cell line: 2>\u001b[1;34m()\u001b[0m\n\u001b[0;32m      1\u001b[0m \u001b[38;5;66;03m##  Conway \u001b[39;00m\n\u001b[1;32m----> 2\u001b[0m \u001b[38;5;28;01mimport\u001b[39;00m \u001b[38;5;21;01mpygame\u001b[39;00m\n\u001b[0;32m      3\u001b[0m \u001b[38;5;28;01mimport\u001b[39;00m \u001b[38;5;21;01mnumpy\u001b[39;00m \u001b[38;5;28;01mas\u001b[39;00m \u001b[38;5;21;01mnp\u001b[39;00m\n",
      "\u001b[1;31mModuleNotFoundError\u001b[0m: No module named 'pygame'"
     ]
    }
   ],
   "source": [
    "##  Conway \n",
    "import pygame\n",
    "import numpy as np"
   ]
  },
  {
   "cell_type": "code",
   "execution_count": 2,
   "metadata": {},
   "outputs": [],
   "source": [
    "##vars \n",
    "col_about_to_die = (200, 200, 225)\n",
    "col_alive = (255, 255, 215)\n",
    "col_background = (10, 10, 40)\n",
    "col_grid = (30, 30, 60)"
   ]
  },
  {
   "cell_type": "code",
   "execution_count": 4,
   "metadata": {},
   "outputs": [
    {
     "ename": "KeyboardInterrupt",
     "evalue": "",
     "output_type": "error",
     "traceback": [
      "\u001b[1;31m---------------------------------------------------------------------------\u001b[0m",
      "\u001b[1;31mKeyboardInterrupt\u001b[0m                         Traceback (most recent call last)",
      "Cell \u001b[1;32mIn [4], line 51\u001b[0m\n\u001b[0;32m     48\u001b[0m         pygame\u001b[39m.\u001b[39mdisplay\u001b[39m.\u001b[39mupdate()\n\u001b[0;32m     50\u001b[0m \u001b[39mif\u001b[39;00m \u001b[39m__name__\u001b[39m \u001b[39m==\u001b[39m \u001b[39m\"\u001b[39m\u001b[39m__main__\u001b[39m\u001b[39m\"\u001b[39m:\n\u001b[1;32m---> 51\u001b[0m     main(\u001b[39m120\u001b[39;49m, \u001b[39m90\u001b[39;49m, \u001b[39m8\u001b[39;49m)\n",
      "Cell \u001b[1;32mIn [4], line 47\u001b[0m, in \u001b[0;36mmain\u001b[1;34m(dimx, dimy, cellsize)\u001b[0m\n\u001b[0;32m     44\u001b[0m         \u001b[39mreturn\u001b[39;00m\n\u001b[0;32m     46\u001b[0m surface\u001b[39m.\u001b[39mfill(col_grid)\n\u001b[1;32m---> 47\u001b[0m cells \u001b[39m=\u001b[39m update(surface, cells, cellsize)\n\u001b[0;32m     48\u001b[0m pygame\u001b[39m.\u001b[39mdisplay\u001b[39m.\u001b[39mupdate()\n",
      "Cell \u001b[1;32mIn [4], line 4\u001b[0m, in \u001b[0;36mupdate\u001b[1;34m(surface, cur, sz)\u001b[0m\n\u001b[0;32m      1\u001b[0m \u001b[39mdef\u001b[39;00m \u001b[39mupdate\u001b[39m(surface, cur, sz):\n\u001b[0;32m      2\u001b[0m     nxt \u001b[39m=\u001b[39m np\u001b[39m.\u001b[39mzeros((cur\u001b[39m.\u001b[39mshape[\u001b[39m0\u001b[39m], cur\u001b[39m.\u001b[39mshape[\u001b[39m1\u001b[39m]))\n\u001b[1;32m----> 4\u001b[0m     \u001b[39mfor\u001b[39;00m r, c \u001b[39min\u001b[39;00m np\u001b[39m.\u001b[39mndindex(cur\u001b[39m.\u001b[39mshape):\n\u001b[0;32m      5\u001b[0m         num_alive \u001b[39m=\u001b[39m np\u001b[39m.\u001b[39msum(cur[r\u001b[39m-\u001b[39m\u001b[39m1\u001b[39m:r\u001b[39m+\u001b[39m\u001b[39m2\u001b[39m, c\u001b[39m-\u001b[39m\u001b[39m1\u001b[39m:c\u001b[39m+\u001b[39m\u001b[39m2\u001b[39m]) \u001b[39m-\u001b[39m cur[r, c]\n\u001b[0;32m      7\u001b[0m         \u001b[39mif\u001b[39;00m cur[r, c] \u001b[39m==\u001b[39m \u001b[39m1\u001b[39m \u001b[39mand\u001b[39;00m num_alive \u001b[39m<\u001b[39m \u001b[39m2\u001b[39m \u001b[39mor\u001b[39;00m num_alive \u001b[39m>\u001b[39m \u001b[39m3\u001b[39m:\n",
      "File \u001b[1;32mc:\\Users\\nlab\\anaconda3\\envs\\ephys0\\lib\\site-packages\\numpy\\lib\\index_tricks.py:696\u001b[0m, in \u001b[0;36mndindex.__next__\u001b[1;34m(self)\u001b[0m\n\u001b[0;32m    684\u001b[0m \u001b[39mdef\u001b[39;00m \u001b[39m__next__\u001b[39m(\u001b[39mself\u001b[39m):\n\u001b[0;32m    685\u001b[0m     \u001b[39m\"\"\"\u001b[39;00m\n\u001b[0;32m    686\u001b[0m \u001b[39m    Standard iterator method, updates the index and returns the index\u001b[39;00m\n\u001b[0;32m    687\u001b[0m \u001b[39m    tuple.\u001b[39;00m\n\u001b[1;32m   (...)\u001b[0m\n\u001b[0;32m    694\u001b[0m \n\u001b[0;32m    695\u001b[0m \u001b[39m    \"\"\"\u001b[39;00m\n\u001b[1;32m--> 696\u001b[0m     \u001b[39mnext\u001b[39m(\u001b[39mself\u001b[39;49m\u001b[39m.\u001b[39;49m_it)\n\u001b[0;32m    697\u001b[0m     \u001b[39mreturn\u001b[39;00m \u001b[39mself\u001b[39m\u001b[39m.\u001b[39m_it\u001b[39m.\u001b[39mmulti_index\n",
      "\u001b[1;31mKeyboardInterrupt\u001b[0m: "
     ]
    }
   ],
   "source": [
    "def update(surface, cur, sz):\n",
    "    nxt = np.zeros((cur.shape[0], cur.shape[1]))\n",
    "\n",
    "    for r, c in np.ndindex(cur.shape):\n",
    "        num_alive = np.sum(cur[r-1:r+2, c-1:c+2]) - cur[r, c]\n",
    "\n",
    "        if cur[r, c] == 1 and num_alive < 2 or num_alive > 3:\n",
    "            col = col_about_to_die\n",
    "        elif (cur[r, c] == 1 and 2 <= num_alive <= 3) or (cur[r, c] == 0 and num_alive == 3):\n",
    "            nxt[r, c] = 1\n",
    "            col = col_alive\n",
    "\n",
    "        col = col if cur[r, c] == 1 else col_background\n",
    "        pygame.draw.rect(surface, col, (c*sz, r*sz, sz-1, sz-1))\n",
    "\n",
    "    return nxt\n",
    "\n",
    "def init(dimx, dimy):\n",
    "    cells = np.zeros((dimy, dimx))\n",
    "    pattern = np.array([[0,0,0,0,0,0,0,0,0,0,0,0,0,0,0,0,0,0,0,0,0,0,0,0,1,0,0,0,0,0,0,0,0,0,0,0,0,0,0],\n",
    "                        [0,0,0,0,0,0,0,0,0,0,0,0,0,0,0,0,0,0,0,0,0,0,1,0,1,0,0,0,0,0,0,0,0,0,0,0,0,0,0],\n",
    "                        [0,0,0,0,0,0,0,0,0,0,0,0,1,1,0,0,0,0,0,0,1,1,0,0,0,0,0,0,0,0,0,0,0,0,1,1,0,0,0],\n",
    "                        [0,0,0,0,0,0,0,0,0,0,0,1,0,0,0,1,0,0,0,0,1,1,0,0,0,0,0,0,0,0,0,0,0,0,1,1,0,0,0],\n",
    "                        [1,1,0,0,0,0,0,0,0,0,1,0,0,0,0,0,1,0,0,0,1,1,0,0,0,0,0,0,0,0,0,0,0,0,0,0,0,0,0],\n",
    "                        [1,1,0,0,0,0,0,0,0,0,1,0,0,0,1,0,1,1,0,0,0,0,1,0,1,0,0,0,0,0,0,0,0,0,0,0,0,0,0],\n",
    "                        [0,0,0,0,0,0,0,0,0,0,1,0,0,0,0,0,1,0,0,0,0,0,0,0,1,0,0,0,0,0,0,0,0,0,0,0,0,0,0],\n",
    "                        [0,0,0,0,0,0,0,0,0,0,0,1,0,0,0,1,0,0,0,0,0,0,0,0,0,0,0,0,0,0,0,0,0,0,0,0,0,0,0],\n",
    "                        [0,0,0,0,0,0,0,0,0,0,0,0,1,1,0,0,0,0,0,0,0,0,0,0,0,0,0,0,0,0,0,0,0,0,0,0,0,0,0]])\n",
    "    pos = (3,3)\n",
    "    cells[pos[0]:pos[0]+pattern.shape[0], pos[1]:pos[1]+pattern.shape[1]] = pattern\n",
    "    return cells\n",
    "\n",
    "def main(dimx, dimy, cellsize):\n",
    "    pygame.init()\n",
    "    surface = pygame.display.set_mode((dimx * cellsize, dimy * cellsize))\n",
    "    pygame.display.set_caption(\"John Conway's Game of Life\")\n",
    "\n",
    "    cells = init(dimx, dimy)\n",
    "\n",
    "    while True:\n",
    "        for event in pygame.event.get():\n",
    "            if event.type == pygame.QUIT:\n",
    "                pygame.quit()\n",
    "                return\n",
    "\n",
    "        surface.fill(col_grid)\n",
    "        cells = update(surface, cells, cellsize)\n",
    "        pygame.display.update()\n",
    "\n",
    "if __name__ == \"__main__\":\n",
    "    main(120, 90, 8)"
   ]
  },
  {
   "cell_type": "code",
   "execution_count": 26,
   "metadata": {},
   "outputs": [],
   "source": [
    "\n",
    "import numpy as np\n",
    "from scipy.signal import convolve\n",
    "\n",
    "# used for counting the number of living neighbors each cell has\n",
    "FILTER = np.array([[1, 1, 1],\n",
    "                   [1, 100, 1],\n",
    "                   [1, 1, 1]], dtype=np.uint8)"
   ]
  },
  {
   "cell_type": "code",
   "execution_count": 27,
   "metadata": {},
   "outputs": [],
   "source": [
    "\n",
    "def evolve(length, generations):\n",
    "    \"\"\"\n",
    "    Run the Game of Life. Starting state is random.\n",
    "\n",
    "    Parameters\n",
    "    ----------\n",
    "    length : int\n",
    "        Universe will be `length` units per side.\n",
    "    generations : int\n",
    "        Number of generations to run simulation.\n",
    "\n",
    "    \"\"\"\n",
    "    current = np.random.randint(2, size=(length, length))\n",
    "    next = np.empty_like(current)\n",
    "    current[length//2, 1:(length-1)] = 1\n",
    "    show_board(current)\n",
    "    for _ in range(generations):\n",
    "        advance(current, next)\n",
    "        current, next = next, current\n",
    "        show_board(current)"
   ]
  },
  {
   "cell_type": "code",
   "execution_count": 28,
   "metadata": {},
   "outputs": [],
   "source": [
    "\n",
    "def advance(current, next):\n",
    "    \"\"\"\n",
    "    Calculate the next iteration of the Game of Life.\n",
    "\n",
    "    Parameters\n",
    "    ----------\n",
    "    current : 2D array\n",
    "        Current state of universe.\n",
    "    next : 2D array\n",
    "        This array will be modified in place so that it contains the\n",
    "        next step. Must be the same size as `current`.\n",
    "\n",
    "    \"\"\"\n",
    "    assert current.shape[0] == current.shape[1], \\\n",
    "           'Expected square universe'\n",
    "    next[:] = 0\n",
    "    count = convolve(current, FILTER, mode='same')\n",
    "    next[(count == 3) | (count == 102) | (count == 103)] = 1"
   ]
  },
  {
   "cell_type": "code",
   "execution_count": 29,
   "metadata": {},
   "outputs": [],
   "source": [
    "\n",
    "from IPython.display import clear_output, display_html\n",
    "import time\n",
    "def show_board(board):\n",
    "    \"\"\"\n",
    "    Print the current Game of Life universe in an HTML table.\n",
    "    Removes any existing output using `IPython.display.clear_output`\n",
    "    to make an animation. This doesn't scale well beyond ~50x50 boards.\n",
    "\n",
    "    Parameters\n",
    "    ----------\n",
    "    board : 2D array\n",
    "        Array representing the current universe.\n",
    "\n",
    "    \"\"\"\n",
    "    clear_output()\n",
    "    nx, ny = board.shape\n",
    "    table = '\\n'\n",
    "    for y in range(ny-1, -1, -1):\n",
    "        table += ''\n",
    "        for x in range(0, nx):\n",
    "            if board[x, y]:\n",
    "                table += ''\n",
    "            else:\n",
    "                table += ''\n",
    "        table += '\\n'\n",
    "    table += ''\n",
    "    display_html(table, raw=True)\n",
    "    time.sleep(0.1)"
   ]
  },
  {
   "cell_type": "code",
   "execution_count": 31,
   "metadata": {},
   "outputs": [],
   "source": [
    "%matplotlib inline"
   ]
  },
  {
   "cell_type": "code",
   "execution_count": 33,
   "metadata": {},
   "outputs": [
    {
     "data": {
      "text/html": [
       "\n",
       "\n",
       "\n",
       "\n",
       "\n",
       "\n",
       "\n",
       "\n",
       "\n",
       "\n",
       "\n",
       "\n",
       "\n",
       "\n",
       "\n",
       "\n",
       "\n",
       "\n",
       "\n",
       "\n",
       "\n",
       "\n",
       "\n",
       "\n",
       "\n",
       "\n",
       "\n",
       "\n",
       "\n",
       "\n",
       "\n",
       "\n",
       "\n",
       "\n",
       "\n",
       "\n",
       "\n",
       "\n",
       "\n",
       "\n",
       "\n"
      ]
     },
     "metadata": {},
     "output_type": "display_data"
    },
    {
     "ename": "KeyboardInterrupt",
     "evalue": "",
     "output_type": "error",
     "traceback": [
      "\u001b[1;31m---------------------------------------------------------------------------\u001b[0m",
      "\u001b[1;31mKeyboardInterrupt\u001b[0m                         Traceback (most recent call last)",
      "Cell \u001b[1;32mIn [33], line 1\u001b[0m\n\u001b[1;32m----> 1\u001b[0m evolve(\u001b[39m40\u001b[39;49m,\u001b[39m100\u001b[39;49m)\n",
      "Cell \u001b[1;32mIn [27], line 20\u001b[0m, in \u001b[0;36mevolve\u001b[1;34m(length, generations)\u001b[0m\n\u001b[0;32m     18\u001b[0m advance(current, \u001b[39mnext\u001b[39m)\n\u001b[0;32m     19\u001b[0m current, \u001b[39mnext\u001b[39m \u001b[39m=\u001b[39m \u001b[39mnext\u001b[39m, current\n\u001b[1;32m---> 20\u001b[0m show_board(current)\n",
      "Cell \u001b[1;32mIn [29], line 28\u001b[0m, in \u001b[0;36mshow_board\u001b[1;34m(board)\u001b[0m\n\u001b[0;32m     26\u001b[0m table \u001b[39m+\u001b[39m\u001b[39m=\u001b[39m \u001b[39m'\u001b[39m\u001b[39m'\u001b[39m\n\u001b[0;32m     27\u001b[0m display_html(table, raw\u001b[39m=\u001b[39m\u001b[39mTrue\u001b[39;00m)\n\u001b[1;32m---> 28\u001b[0m time\u001b[39m.\u001b[39;49msleep(\u001b[39m0.1\u001b[39;49m)\n",
      "\u001b[1;31mKeyboardInterrupt\u001b[0m: "
     ]
    }
   ],
   "source": [
    "evolve(40,100)"
   ]
  },
  {
   "cell_type": "code",
   "execution_count": null,
   "metadata": {},
   "outputs": [],
   "source": []
  }
 ],
 "metadata": {
  "kernelspec": {
   "display_name": "Python 3 (ipykernel)",
   "language": "python",
   "name": "python3"
  },
  "language_info": {
   "codemirror_mode": {
    "name": "ipython",
    "version": 3
   },
   "file_extension": ".py",
   "mimetype": "text/x-python",
   "name": "python",
   "nbconvert_exporter": "python",
   "pygments_lexer": "ipython3",
   "version": "3.9.12"
  },
  "vscode": {
   "interpreter": {
    "hash": "8d5aad94d69af8d54a80740ac3e999eae8a40d3534c4b9b883255615339559dc"
   }
  }
 },
 "nbformat": 4,
 "nbformat_minor": 4
}
